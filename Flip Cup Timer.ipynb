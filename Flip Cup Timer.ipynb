{
 "cells": [
  {
   "cell_type": "code",
   "execution_count": 25,
   "metadata": {
    "collapsed": true
   },
   "outputs": [],
   "source": [
    "MEAN_SECONDS = 5 # * 60\n",
    "STD_SECONDS = 1 # * 60\n",
    "\n",
    "ACTIONS = [\n",
    "    'Flip a cup!',\n",
    "    'Action 2',\n",
    "    'Action 3',\n",
    "]"
   ]
  },
  {
   "cell_type": "code",
   "execution_count": 26,
   "metadata": {
    "collapsed": true
   },
   "outputs": [],
   "source": [
    "from random import gauss, choice\n",
    "import time\n",
    "from subprocess import call"
   ]
  },
  {
   "cell_type": "code",
   "execution_count": 27,
   "metadata": {
    "scrolled": true
   },
   "outputs": [],
   "source": [
    "def start_flip_cup_timer():\n",
    "    try: \n",
    "        while True:\n",
    "            interval = gauss(MEAN_SECONDS, STD_SECONDS)\n",
    "            action = choice(ACTIONS)\n",
    "            print 'Sleeping for {} seconds'.format(interval)\n",
    "            time.sleep(interval)\n",
    "            call(['say', action])\n",
    "    except KeyboardInterrupt:\n",
    "        pass"
   ]
  },
  {
   "cell_type": "code",
   "execution_count": 28,
   "metadata": {},
   "outputs": [
    {
     "name": "stdout",
     "output_type": "stream",
     "text": [
      "Sleeping for 4.99554641976 seconds\n",
      "Sleeping for 4.1233889259 seconds\n"
     ]
    }
   ],
   "source": [
    "start_flip_cup_timer()"
   ]
  },
  {
   "cell_type": "code",
   "execution_count": null,
   "metadata": {
    "collapsed": true
   },
   "outputs": [],
   "source": []
  }
 ],
 "metadata": {
  "kernelspec": {
   "display_name": "Python 2",
   "language": "python",
   "name": "python2"
  },
  "language_info": {
   "codemirror_mode": {
    "name": "ipython",
    "version": 2
   },
   "file_extension": ".py",
   "mimetype": "text/x-python",
   "name": "python",
   "nbconvert_exporter": "python",
   "pygments_lexer": "ipython2",
   "version": "2.7.13"
  }
 },
 "nbformat": 4,
 "nbformat_minor": 2
}
