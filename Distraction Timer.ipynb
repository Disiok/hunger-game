{
 "cells": [
  {
   "cell_type": "code",
   "execution_count": 60,
   "metadata": {
    "collapsed": true
   },
   "outputs": [],
   "source": [
    "MEAN_SECONDS = 2 # * 60\n",
    "STD_SECONDS = 1 # * 60\n",
    "\n",
    "CATEGORIES = [\n",
    "    'Operating systems',\n",
    "    'Bryan\\'s favorite drinks',\n",
    "    'Your choice',\n",
    "]\n",
    "\n",
    "RHYME_WORDS = [\n",
    "    'Door',\n",
    "    'Beer',\n",
    "    'Mirror',\n",
    "    'Your choice',\n",
    "]"
   ]
  },
  {
   "cell_type": "code",
   "execution_count": 61,
   "metadata": {},
   "outputs": [],
   "source": [
    "from random import gauss, choice\n",
    "import time\n",
    "from subprocess import call\n",
    "from util import *"
   ]
  },
  {
   "cell_type": "code",
   "execution_count": 62,
   "metadata": {
    "collapsed": true
   },
   "outputs": [],
   "source": [
    "def flip_cup():\n",
    "    print_and_say('Flip a cup!')\n",
    "\n",
    "def drink():\n",
    "    print_and_say('Everyone drinks!')\n",
    "\n",
    "def categories():\n",
    "    player = choice(PLAYERS)\n",
    "    category = choice(CATEGORIES)\n",
    "    print_and_say('Play categories starting from {} about {}'.format(player, category))\n",
    "\n",
    "def rhymes():\n",
    "    player = choice(PLAYERS)\n",
    "    rhyme_word = choice(RHYME_WORDS)\n",
    "    print_and_say('Play rhymes starting from {} about {}'.format(player, rhyme_word))\n",
    "\n",
    "games = [\n",
    "    flip_cup,\n",
    "    drink,\n",
    "    categories,\n",
    "    rhymes,\n",
    "]"
   ]
  },
  {
   "cell_type": "code",
   "execution_count": 63,
   "metadata": {
    "collapsed": true,
    "scrolled": true
   },
   "outputs": [],
   "source": [
    "def start_distraction_timer():\n",
    "    try: \n",
    "        while True:\n",
    "            interval = gauss(MEAN_SECONDS, STD_SECONDS)\n",
    "            game = choice(games)\n",
    "            print 'Sleeping for {} seconds'.format(interval)\n",
    "            time.sleep(interval)\n",
    "            game()\n",
    "    except KeyboardInterrupt:\n",
    "        print_and_say('Game over!')"
   ]
  },
  {
   "cell_type": "code",
   "execution_count": 64,
   "metadata": {},
   "outputs": [
    {
     "name": "stdout",
     "output_type": "stream",
     "text": [
      "Sleeping for 0.0474017182245 seconds\n",
      "Everyone drinks!\n",
      "Sleeping for 1.11880004256 seconds\n",
      "Flip a cup!\n",
      "Sleeping for 2.60841840728 seconds\n",
      "Play categories starting from Mary about Bryan's favorite drinks\n",
      "Sleeping for 2.37925829193 seconds\n",
      "Play categories starting from Rahul about Your choice\n",
      "Sleeping for 3.26375593497 seconds\n",
      "Play rhymes starting from Peng Fei about Your choice\n",
      "Sleeping for 2.35362077896 seconds\n",
      "Everyone drinks!\n",
      "Sleeping for 3.53199818202 seconds\n",
      "Everyone drinks!\n",
      "Sleeping for 3.07388432918 seconds\n",
      "Game over!\n"
     ]
    }
   ],
   "source": [
    "start_distraction_timer()"
   ]
  },
  {
   "cell_type": "code",
   "execution_count": null,
   "metadata": {
    "collapsed": true
   },
   "outputs": [],
   "source": []
  }
 ],
 "metadata": {
  "kernelspec": {
   "display_name": "Python 2",
   "language": "python",
   "name": "python2"
  },
  "language_info": {
   "codemirror_mode": {
    "name": "ipython",
    "version": 2
   },
   "file_extension": ".py",
   "mimetype": "text/x-python",
   "name": "python",
   "nbconvert_exporter": "python",
   "pygments_lexer": "ipython2",
   "version": "2.7.13"
  }
 },
 "nbformat": 4,
 "nbformat_minor": 2
}
