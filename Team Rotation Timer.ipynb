{
 "cells": [
  {
   "cell_type": "code",
   "execution_count": 78,
   "metadata": {},
   "outputs": [],
   "source": [
    "ROUND_TIME = 1\n",
    "COUNT_DOWN_TIME = 6\n",
    "\n",
    "ROUND_BEGIN_GREETING = 'Round beginning in'\n",
    "COUNT_DOWN = ''.join(map(lambda x: '{}, '.format(x), reversed(range(1, COUNT_DOWN_TIME))))\n",
    "START = 'Start!'\n",
    "END = 'Game over!'"
   ]
  },
  {
   "cell_type": "code",
   "execution_count": 79,
   "metadata": {
    "collapsed": true
   },
   "outputs": [],
   "source": [
    "from subprocess import call\n",
    "import time\n",
    "from random import choice"
   ]
  },
  {
   "cell_type": "code",
   "execution_count": 87,
   "metadata": {
    "collapsed": true
   },
   "outputs": [],
   "source": [
    "def get_available_voices():\n",
    "    with open('voice_list.txt') as f:\n",
    "        lines = f.readlines()\n",
    "        voices = map(lambda x: x.split()[0], lines)\n",
    "        return voices"
   ]
  },
  {
   "cell_type": "code",
   "execution_count": 91,
   "metadata": {
    "collapsed": true
   },
   "outputs": [],
   "source": [
    "def print_and_say(sentence, voices=False):\n",
    "    print sentence\n",
    "    if voices:\n",
    "        voice = choice(voices)\n",
    "        call(['say', '-v', voice, sentence])\n",
    "    else:\n",
    "        call(['say', sentence])"
   ]
  },
  {
   "cell_type": "code",
   "execution_count": 92,
   "metadata": {},
   "outputs": [],
   "source": [
    "def start_rotation_game():\n",
    "    voices = get_available_voices()\n",
    "    \n",
    "    try:\n",
    "        # greeting\n",
    "        print_and_say(ROUND_BEGIN_GREETING)\n",
    "        print_and_say(COUNT_DOWN)\n",
    "        print_and_say(START)\n",
    "\n",
    "        while True:\n",
    "            print 'Sleeping for {} seconds'.format(ROUND_TIME)\n",
    "            time.sleep(ROUND_TIME)\n",
    "            print_and_say('Rotate!', voices=voices)\n",
    "    except KeyboardInterrupt:\n",
    "        # end\n",
    "        print_and_say(END)"
   ]
  },
  {
   "cell_type": "code",
   "execution_count": 94,
   "metadata": {
    "scrolled": true
   },
   "outputs": [
    {
     "name": "stdout",
     "output_type": "stream",
     "text": [
      "Round beginning in\n",
      "5, 4, 3, 2, 1, \n",
      "Start!\n",
      "Game over!\n"
     ]
    }
   ],
   "source": [
    "start_rotation_game()"
   ]
  },
  {
   "cell_type": "code",
   "execution_count": null,
   "metadata": {
    "collapsed": true
   },
   "outputs": [],
   "source": []
  }
 ],
 "metadata": {
  "kernelspec": {
   "display_name": "Python 2",
   "language": "python",
   "name": "python2"
  },
  "language_info": {
   "codemirror_mode": {
    "name": "ipython",
    "version": 2
   },
   "file_extension": ".py",
   "mimetype": "text/x-python",
   "name": "python",
   "nbconvert_exporter": "python",
   "pygments_lexer": "ipython2",
   "version": "2.7.13"
  }
 },
 "nbformat": 4,
 "nbformat_minor": 2
}
